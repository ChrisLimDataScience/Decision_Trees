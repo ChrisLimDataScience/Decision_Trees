{
  "nbformat": 4,
  "nbformat_minor": 0,
  "metadata": {
    "colab": {
      "name": "Chris's Homework 6.ipynb",
      "provenance": [],
      "collapsed_sections": []
    },
    "kernelspec": {
      "name": "python3",
      "display_name": "Python 3"
    },
    "language_info": {
      "name": "python"
    }
  },
  "cells": [
    {
      "cell_type": "markdown",
      "metadata": {
        "id": "gJL_nLkdHYDy"
      },
      "source": [
        "# Homework 6 (30 marks)\n",
        "Create a copy of the notebook to start answering the questions. Name your notebook in the format HW6_lastname_firstname.ipynb to facilitate the grading process.\n",
        "\n",
        "Answer all the questions, test your code to ensure there are no errors and the results are as expected. Once you have answered all the questions, save the final copy, then go to File-> click on Download.ipynb. Once the local copy has been downloaded, submit your file on Blackboard under the corresponding assignment section. Also provide us a link to your notebook during submission.\n",
        "\n",
        "NOTE: Please give the TAs the permission to access your notebooks through the links you have provided during submission.\n",
        "\n",
        "The due date of this homework is 04/09/2021 (Friday).\n",
        "\n",
        "Please ensure you follow all the steps mentioned in the homework.\n",
        "\n",
        "You can submit your solutions any number of times until the deadline.\n",
        "\n",
        "The datasets used in this homework can be found in the google drive link below -\n",
        "\n",
        "https://drive.google.com/drive/folders/1NxCh4X7u7wVo5aHojxjLNs9wC7B7zJhb?usp=sharing\n",
        "\n",
        "Follow the necessary steps to import data to test your code. You can use any method to read your data in the notebook. We will not be grading the methods you use. We will only grade the code from the point where you read the dataset into a pandas dataframe - (pd.read_csv('file_name'))"
      ]
    },
    {
      "cell_type": "markdown",
      "metadata": {
        "id": "Zp3D8wIOH4bR"
      },
      "source": [
        "Import all the libraries you require in the cell below.\n",
        "\n"
      ]
    },
    {
      "cell_type": "code",
      "metadata": {
        "id": "72EyvzqAH6G_"
      },
      "source": [
        "# Enter your code here\n",
        "import pandas as pd\n",
        "from sklearn.model_selection import train_test_split\n",
        "from sklearn.tree import DecisionTreeClassifier\n",
        "from sklearn import metrics\n",
        "import matplotlib.pyplot as plt\n",
        "from sklearn import tree\n"
      ],
      "execution_count": 1,
      "outputs": []
    },
    {
      "cell_type": "markdown",
      "metadata": {
        "id": "TxCnZ-n3H0Wd"
      },
      "source": [
        "### 1. Build a classification model that predicts the edibility of mushrooms (class variable in the dataset). You have been provide with a dataset as a mushrooms.csv file. \n",
        "Here is a description of the attributes\n"
      ]
    },
    {
      "cell_type": "markdown",
      "metadata": {
        "id": "2WX2OwgOIHMd"
      },
      "source": [
        "Attribute description:\n",
        "1. cap-shape: bell=b,conical=c,convex=x,flat=f, knobbed=k,sunken=s \n",
        "2. cap-surface: fibrous=f,grooves=g,scaly=y,smooth=s \n",
        "3. cap-color: brown=n,buff=b,cinnamon=c,gray=g,green=r, pink=p,purple=u,red=e,white=w,yellow=y \n",
        "4. bruises?: bruises=t,no=f \n",
        "5. odor: almond=a,anise=l,creosote=c,fishy=y,foul=f, musty=m,none=n,pungent=p,spicy=s \n",
        "6. gill-attachment: attached=a,descending=d,free=f,notched=n \n",
        "7. gill-spacing: close=c,crowded=w,distant=d \n",
        "8. gill-size: broad=b,narrow=n \n",
        "9. gill-color: black=k,brown=n,buff=b,chocolate=h,gray=g, green=r,orange=o,pink=p,purple=u,red=e, white=w,yellow=y \n",
        "10. stalk-shape: enlarging=e,tapering=t \n",
        "11. stalk-root: bulbous=b,club=c,cup=u,equal=e, rhizomorphs=z,rooted=r,missing=? \n",
        "12. stalk-surface-above-ring: fibrous=f,scaly=y,silky=k,smooth=s \n",
        "13. stalk-surface-below-ring: fibrous=f,scaly=y,silky=k,smooth=s \n",
        "14. stalk-color-above-ring: brown=n,buff=b,cinnamon=c,gray=g,orange=o, pink=p,red=e,white=w,yellow=y \n",
        "15. stalk-color-below-ring: brown=n,buff=b,cinnamon=c,gray=g,orange=o, pink=p,red=e,white=w,yellow=y \n",
        "16. veil-type: partial=p,universal=u \n",
        "17. veil-color: brown=n,orange=o,white=w,yellow=y \n",
        "18. ring-number: none=n,one=o,two=t \n",
        "19. ring-type: cobwebby=c,evanescent=e,flaring=f,large=l, none=n,pendant=p,sheathing=s,zone=z \n",
        "20. spore-print-color: black=k,brown=n,buff=b,chocolate=h,green=r, orange=o,purple=u,white=w,yellow=y \n",
        "21. population: abundant=a,clustered=c,numerous=n, scattered=s,several=v,solitary=y \n",
        "22. habitat: grasses=g,leaves=l,meadows=m,paths=p, urban=u,waste=w,woods=d\n",
        "23. class: p = poisonous, e=edible\n"
      ]
    },
    {
      "cell_type": "markdown",
      "metadata": {
        "id": "LJeXdQymILSv"
      },
      "source": [
        "1. Build a classification tree. Random_state =2020. Training partition 0.7. stratify = y, max_depth = 6, use Entropy (8 marks)\n",
        "\n",
        "A. Read the dataset, explore it and determine what is the dependent variable (1 mark)\n",
        "\n",
        "B. Store the feature and target variable. (2 marks)\n",
        "\n",
        "C. Convert all categorical variables into dummy variables (1 mark)\n",
        "\n",
        "D. Partition the data into training and test sets (70/30) (1 mark)\n",
        "\n",
        "E. Fit the training data to a classification tree. (3 marks)"
      ]
    },
    {
      "cell_type": "code",
      "metadata": {
        "id": "Eme32RA0IKoR"
      },
      "source": [
        "# Enter your code here\n",
        "from sklearn import preprocessing\n",
        "# print(\"Question 1 \\n\")\n",
        "#read in csv\n",
        "#A\n",
        "df=pd.read_csv('mushrooms.csv')\n",
        "pd.set_option('display.max_columns', None)\n",
        "#B\n",
        "target = df['class']\n",
        "featurelist = list(df.columns)\n",
        "featurelist.pop(0)\n",
        "# print(featurelist)\n",
        "feature_cols=featurelist\n",
        "y = target\n",
        "y= y.replace(\"p\", 0)\n",
        "y = y.replace(\"e\", 1)\n",
        "number = preprocessing.LabelEncoder()\n",
        "y1 = number.fit_transform(y)\n",
        "#print(x.head(1))\n",
        "#print(y)\n",
        "#C\n",
        "x = pd.get_dummies(df, columns=feature_cols)\n",
        "x = x.drop(columns=['class'])\n",
        "#D\n",
        "xTrain, xTest, yTrain, yTest = train_test_split(x, y, test_size = 0.3, random_state = 2020, stratify=y)\n",
        "#E\n",
        "dt = DecisionTreeClassifier(max_depth=6, criterion=\"entropy\", random_state=2020)\n",
        "dt.fit(xTrain,yTrain)\n",
        "ypred = dt.predict((xTest))\n",
        "# ypred2 = pd.DataFrame(ypred)\n",
        "# ypred2 = ypred2.replace(0, 1)\n",
        "ytrainpred = dt.predict((xTrain))"
      ],
      "execution_count": 39,
      "outputs": []
    },
    {
      "cell_type": "markdown",
      "metadata": {
        "id": "YB-2YFsOIUah"
      },
      "source": [
        "2. Print the confusion matrix. \n",
        "Also visualize the confusion matrix using plot_confusion_matrix from sklearn.metrics (3 marks)\n",
        "\n"
      ]
    },
    {
      "cell_type": "code",
      "metadata": {
        "id": "VFwyLKzcRjyY",
        "colab": {
          "base_uri": "https://localhost:8080/",
          "height": 313
        },
        "outputId": "1aed13f6-df00-4621-a600-e5560e71f1a5"
      },
      "source": [
        "# Enter your code here\n",
        "metrics.plot_confusion_matrix(dt, xTest, yTest)\n",
        "plt.show()\n",
        "cf = metrics.confusion_matrix(yTest, ypred)\n",
        "print(cf)"
      ],
      "execution_count": 19,
      "outputs": [
        {
          "output_type": "display_data",
          "data": {
            "image/png": "[encoded data removed]",
            "text/plain": [
              "<Figure size 432x288 with 2 Axes>"
            ]
          },
          "metadata": {
            "tags": [],
            "needs_background": "light"
          }
        },
        {
          "output_type": "stream",
          "text": [
            "[[1175    0]\n",
            " [   0 1263]]\n"
          ],
          "name": "stdout"
        }
      ]
    },
    {
      "cell_type": "markdown",
      "metadata": {
        "id": "yhdyvv48JFFd"
      },
      "source": [
        "3. Print the accuracy on the training partition?  (2 marks)\n"
      ]
    },
    {
      "cell_type": "code",
      "metadata": {
        "id": "WeQ9cOluRrL2",
        "colab": {
          "base_uri": "https://localhost:8080/"
        },
        "outputId": "ff927730-2ce3-41cd-9775-ce7cfce47fc9"
      },
      "source": [
        "# Enter your code here\n",
        "\n",
        "print('Accuracy =', metrics.accuracy_score(yTrain, ytrainpred))"
      ],
      "execution_count": 20,
      "outputs": [
        {
          "output_type": "stream",
          "text": [
            "Accuracy = 1.0\n"
          ],
          "name": "stdout"
        }
      ]
    },
    {
      "cell_type": "markdown",
      "metadata": {
        "id": "_aH9TPFSJGv_"
      },
      "source": [
        "4. Print the accuracy on the test partition? (2 marks)\n"
      ]
    },
    {
      "cell_type": "code",
      "metadata": {
        "id": "U4eEWJCvRwSn",
        "colab": {
          "base_uri": "https://localhost:8080/"
        },
        "outputId": "6573f31e-8caf-479c-9ab2-711301c03451"
      },
      "source": [
        "# Enter your code here\n",
        "print('Accuracy =', metrics.accuracy_score(yTest, ypred))"
      ],
      "execution_count": 38,
      "outputs": [
        {
          "output_type": "stream",
          "text": [
            "Accuracy = 1.0\n"
          ],
          "name": "stdout"
        }
      ]
    },
    {
      "cell_type": "markdown",
      "metadata": {
        "id": "_cWbOP-3JIE0"
      },
      "source": [
        "5. Show the classification tree and save it (5 marks)\n"
      ]
    },
    {
      "cell_type": "code",
      "metadata": {
        "id": "LRuYQCeNR1Dn",
        "colab": {
          "base_uri": "https://localhost:8080/",
          "height": 265
        },
        "outputId": "d0e6e28a-8345-4788-e950-cacede0611ec"
      },
      "source": [
        "# Enter your code here\n",
        "from sklearn import tree\n",
        "\n",
        "plt.figure(2)\n",
        "fn = x.columns\n",
        "cn = y.unique()\n",
        "Tree = tree.plot_tree(dt, feature_names=fn, class_names=target, filled=True)\n",
        "plt.figure(figsize=(50, 50)) \n",
        "plt.savefig('shrooms.png')\n",
        "plt.show()"
      ],
      "execution_count": 45,
      "outputs": [
        {
          "output_type": "display_data",
          "data": {
            "image/png": "[encoded data removed]",
            "text/plain": [
              "<Figure size 432x288 with 1 Axes>"
            ]
          },
          "metadata": {
            "tags": [],
            "needs_background": "light"
          }
        },
        {
          "output_type": "display_data",
          "data": {
            "text/plain": [
              "<Figure size 3600x3600 with 0 Axes>"
            ]
          },
          "metadata": {
            "tags": []
          }
        }
      ]
    },
    {
      "cell_type": "markdown",
      "metadata": {
        "id": "a3fM0HMSJJl8"
      },
      "source": [
        "6. Find and print the top three most important features in your decision tree for determining toxicity. (4 marks)"
      ]
    },
    {
      "cell_type": "code",
      "metadata": {
        "id": "qTkc8ga1R6kd",
        "colab": {
          "base_uri": "https://localhost:8080/"
        },
        "outputId": "f803c07a-2e05-4051-a8bf-42f010b23f4e"
      },
      "source": [
        "# Enter your code here\n",
        "print('Feature Importance:', dt.feature_importances_)\n",
        "imp=pd.DataFrame(zip(xTrain.columns, dt.feature_importances_))\n",
        "imp.columns =['X','Y']\n",
        "imp = imp.sort_values(by=['Y'], ascending=False)\n",
        "pd.set_option('display.max_rows', None)\n",
        "print(imp.head(3))"
      ],
      "execution_count": 23,
      "outputs": [
        {
          "output_type": "stream",
          "text": [
            "Feature Importance: [0.         0.         0.         0.         0.         0.\n",
            " 0.         0.00686257 0.         0.         0.         0.\n",
            " 0.         0.         0.         0.         0.         0.\n",
            " 0.         0.         0.00151167 0.22223946 0.         0.\n",
            " 0.         0.         0.         0.51808447 0.         0.\n",
            " 0.         0.         0.         0.         0.         0.\n",
            " 0.00818944 0.         0.         0.         0.         0.\n",
            " 0.         0.         0.         0.         0.         0.\n",
            " 0.         0.         0.         0.         0.         0.06284002\n",
            " 0.         0.0486269  0.         0.         0.         0.\n",
            " 0.         0.         0.         0.03200916 0.         0.\n",
            " 0.         0.         0.         0.         0.         0.\n",
            " 0.         0.         0.         0.         0.         0.\n",
            " 0.         0.         0.         0.         0.         0.\n",
            " 0.         0.         0.         0.         0.         0.\n",
            " 0.         0.         0.         0.         0.         0.\n",
            " 0.         0.         0.         0.         0.05118655 0.\n",
            " 0.         0.         0.         0.         0.         0.\n",
            " 0.         0.         0.04844977 0.         0.         0.\n",
            " 0.         0.         0.        ]\n",
            "               X         Y\n",
            "27        odor_n  0.518084\n",
            "21     bruises_t  0.222239\n",
            "53  stalk-root_c  0.062840\n"
          ],
          "name": "stdout"
        }
      ]
    },
    {
      "cell_type": "markdown",
      "metadata": {
        "id": "uye7JohHJQmN"
      },
      "source": [
        "7. Classify the following mushroom. (6 marks)\n",
        "\n",
        "class\n",
        " : **?**\n",
        "\n",
        "cap-shape\n",
        ": **x**\n",
        "\n",
        "cap-surface\n",
        ": **s**\n",
        "\n",
        "cap-color\n",
        ": **n**\n",
        "\n",
        "bruises\n",
        ": **t**\n",
        "\n",
        "odor\n",
        ": **y**\n",
        "\n",
        "gill-attachment\n",
        ": **f**\n",
        "\n",
        "gill-spacing\n",
        ": **c**\n",
        "\n",
        "gill-size\n",
        ": **n**\n",
        "\n",
        "gill-color\n",
        ": **k**\n",
        "\n",
        "stalk-shape\n",
        ": **e**\n",
        "\n",
        "stalk-root\n",
        ": **e**\n",
        "\n",
        "stalk-surface-above-ring\n",
        ": **s**\n",
        "\n",
        "stalk-surface-below-ring\n",
        ": **s**\n",
        "\n",
        "stalk-color-above-ring\n",
        ": **w**\n",
        "\n",
        "stalk-color-below-ring\n",
        ": **w**\n",
        "\n",
        "veil-type\n",
        ": **p**\n",
        "\n",
        "veil-color\n",
        ": **w**\n",
        "\n",
        "ring-number\n",
        ": **o**\n",
        "\n",
        "ring-type\n",
        ": **p**\n",
        "\n",
        "spore-print-color\n",
        ": **r**\n",
        "\n",
        "population\n",
        ": **s**\n",
        "\n",
        "habitat\n",
        ": **u**\n",
        "\n"
      ]
    },
    {
      "cell_type": "code",
      "metadata": {
        "id": "jaLW4bhtSGjh",
        "colab": {
          "base_uri": "https://localhost:8080/"
        },
        "outputId": "d37b3a6b-ece9-49fc-c097-21f74f9f8f63"
      },
      "source": [
        "df2 = df\n",
        "data = {'cap-shape': 'x', 'cap-surface' : 's', 'cap-color' : 'n', 'bruises' : 't', 'odor' : 'y', 'gill-attachment':'f', 'gill-spacing' : 'c',\n",
        "        'gill-size' : 'n', 'gill-color' : 'k', 'stalk-shape' : 'e', 'stalk-root' : 'e', 'stalk-surface-above-ring' : 's', 'stalk-surface-below-ring' : 's',\n",
        "        'stalk-color-above-ring' : 'w', 'stalk-color-below-ring' : 'w', 'veil-type' : 'p', 'veil-color' : 'w', 'ring-number' : 'o', 'ring-type' : 'p',\n",
        "        'spore-print-color' : 'r', 'population': 's', 'habitat' : 'u'} \n",
        "#df2.append(data, ignore_index=True)\n",
        "df2.iloc[0] = data\n",
        "x = pd.get_dummies(df2, columns=feature_cols)\n",
        "x = x.drop(columns=['class'])\n",
        "# print(x.head(1))\n",
        "ypred = dt.predict((x.head(1)))\n",
        "print(\"Prediction for this mushroom is \" + str(ypred) + \" which means poisonous\") \n"
      ],
      "execution_count": 24,
      "outputs": [
        {
          "output_type": "stream",
          "text": [
            "Prediction for this mushroom is [0] which means poisonous\n"
          ],
          "name": "stdout"
        }
      ]
    }
  ]
}